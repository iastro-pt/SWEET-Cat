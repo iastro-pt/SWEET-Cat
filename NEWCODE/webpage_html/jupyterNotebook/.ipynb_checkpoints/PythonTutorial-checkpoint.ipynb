{
 "cells": [
  {
   "cell_type": "code",
   "execution_count": 1,
   "metadata": {},
   "outputs": [],
   "source": [
    "import pandas as pd\n",
    "import numpy as np\n",
    "from astropy import coordinates as coord\n",
    "from astropy import units as u"
   ]
  },
  {
   "cell_type": "code",
   "execution_count": 2,
   "metadata": {},
   "outputs": [],
   "source": [
    "sweetCat_file = \"../download/SWEETCAT_Dataframe.csv\"\n",
    "dtype_SW = dtype={'gaia_dr2':'int64','gaia_dr3':'int64'}\n",
    "SC = pd.read_csv(sweetCat_file, dtype=dtype_SW)"
   ]
  },
  {
   "cell_type": "code",
   "execution_count": 3,
   "metadata": {},
   "outputs": [
    {
     "name": "stdout",
     "output_type": "stream",
     "text": [
      "Index(['Name', 'hd', 'RA', 'DEC', 'Vmag', 'eVmag', 'PlxFlag', 'Teff', 'eTeff',\n",
      "       'Logg', 'eLogg', 'Vt', 'eVt', '[Fe/H]', 'e[Fe/H]', 'Reference', 'Link',\n",
      "       'SWFlag', 'Update', 'Comment', 'Database', 'gaia_dr2', 'gaia_dr3',\n",
      "       'Plx', 'e_Plx', 'Gmag', 'e_Gmag', 'RPmag', 'e_RPmag', 'BPmag',\n",
      "       'e_BPmag', 'FG', 'e_FG', 'G_flux_std_n', 'logg_gaia', 'e_logg_gaia',\n",
      "       'mass_t', 'e_mass_t', 'radius_t', 'e_radius_t', 'spec_base', 'Distance',\n",
      "       'RA_EU', 'DEC_EU', 'RA_NASA', 'DEC_NASA'],\n",
      "      dtype='object')\n"
     ]
    }
   ],
   "source": [
    "print(SC.columns)"
   ]
  },
  {
   "cell_type": "code",
   "execution_count": 4,
   "metadata": {},
   "outputs": [
    {
     "data": {
      "text/html": [
       "<div>\n",
       "<style scoped>\n",
       "    .dataframe tbody tr th:only-of-type {\n",
       "        vertical-align: middle;\n",
       "    }\n",
       "\n",
       "    .dataframe tbody tr th {\n",
       "        vertical-align: top;\n",
       "    }\n",
       "\n",
       "    .dataframe thead th {\n",
       "        text-align: right;\n",
       "    }\n",
       "</style>\n",
       "<table border=\"1\" class=\"dataframe\">\n",
       "  <thead>\n",
       "    <tr style=\"text-align: right;\">\n",
       "      <th></th>\n",
       "      <th>Name</th>\n",
       "      <th>RA</th>\n",
       "      <th>DEC</th>\n",
       "      <th>Gmag</th>\n",
       "      <th>Teff</th>\n",
       "    </tr>\n",
       "  </thead>\n",
       "  <tbody>\n",
       "    <tr>\n",
       "      <th>0</th>\n",
       "      <td>11 Com</td>\n",
       "      <td>12 20 43.02</td>\n",
       "      <td>+17 47 34.33</td>\n",
       "      <td>4.437300</td>\n",
       "      <td>4824.0</td>\n",
       "    </tr>\n",
       "    <tr>\n",
       "      <th>1</th>\n",
       "      <td>11 UMi</td>\n",
       "      <td>15 17 05.88</td>\n",
       "      <td>+71 49 26.04</td>\n",
       "      <td>4.556700</td>\n",
       "      <td>4314.0</td>\n",
       "    </tr>\n",
       "    <tr>\n",
       "      <th>2</th>\n",
       "      <td>14 And</td>\n",
       "      <td>23 31 17.41</td>\n",
       "      <td>+39 14 10.30</td>\n",
       "      <td>4.922200</td>\n",
       "      <td>4745.0</td>\n",
       "    </tr>\n",
       "    <tr>\n",
       "      <th>3</th>\n",
       "      <td>14 Her</td>\n",
       "      <td>16 10 24.31</td>\n",
       "      <td>+43 49 03.52</td>\n",
       "      <td>6.395200</td>\n",
       "      <td>5360.0</td>\n",
       "    </tr>\n",
       "    <tr>\n",
       "      <th>4</th>\n",
       "      <td>16 Cyg B</td>\n",
       "      <td>19 41 51.97</td>\n",
       "      <td>+50 31 03.08</td>\n",
       "      <td>6.073400</td>\n",
       "      <td>5785.0</td>\n",
       "    </tr>\n",
       "    <tr>\n",
       "      <th>...</th>\n",
       "      <td>...</td>\n",
       "      <td>...</td>\n",
       "      <td>...</td>\n",
       "      <td>...</td>\n",
       "      <td>...</td>\n",
       "    </tr>\n",
       "    <tr>\n",
       "      <th>3236</th>\n",
       "      <td>HD 96992</td>\n",
       "      <td>11 10 23.24</td>\n",
       "      <td>+43 55 08.32</td>\n",
       "      <td>8.284226</td>\n",
       "      <td>4725.0</td>\n",
       "    </tr>\n",
       "    <tr>\n",
       "      <th>3237</th>\n",
       "      <td>TOI-519</td>\n",
       "      <td>08 18 25.66</td>\n",
       "      <td>-19 39 46.50</td>\n",
       "      <td>15.677020</td>\n",
       "      <td>3350.0</td>\n",
       "    </tr>\n",
       "    <tr>\n",
       "      <th>3238</th>\n",
       "      <td>TOI-837</td>\n",
       "      <td>10 28 08.99</td>\n",
       "      <td>-64 30 18.93</td>\n",
       "      <td>10.359779</td>\n",
       "      <td>6047.0</td>\n",
       "    </tr>\n",
       "    <tr>\n",
       "      <th>3239</th>\n",
       "      <td>TYC 0434-04538-1</td>\n",
       "      <td>18 05 21.55</td>\n",
       "      <td>+02 03 44.60</td>\n",
       "      <td>9.927217</td>\n",
       "      <td>4679.0</td>\n",
       "    </tr>\n",
       "    <tr>\n",
       "      <th>3240</th>\n",
       "      <td>V830 Tau</td>\n",
       "      <td>04 33 10.02</td>\n",
       "      <td>+24 33 43.25</td>\n",
       "      <td>11.667231</td>\n",
       "      <td>4250.0</td>\n",
       "    </tr>\n",
       "  </tbody>\n",
       "</table>\n",
       "<p>3241 rows × 5 columns</p>\n",
       "</div>"
      ],
      "text/plain": [
       "                  Name           RA           DEC       Gmag    Teff\n",
       "0               11 Com  12 20 43.02  +17 47 34.33   4.437300  4824.0\n",
       "1               11 UMi  15 17 05.88  +71 49 26.04   4.556700  4314.0\n",
       "2               14 And  23 31 17.41  +39 14 10.30   4.922200  4745.0\n",
       "3               14 Her  16 10 24.31  +43 49 03.52   6.395200  5360.0\n",
       "4             16 Cyg B  19 41 51.97  +50 31 03.08   6.073400  5785.0\n",
       "...                ...          ...           ...        ...     ...\n",
       "3236          HD 96992  11 10 23.24  +43 55 08.32   8.284226  4725.0\n",
       "3237           TOI-519  08 18 25.66  -19 39 46.50  15.677020  3350.0\n",
       "3238           TOI-837  10 28 08.99  -64 30 18.93  10.359779  6047.0\n",
       "3239  TYC 0434-04538-1  18 05 21.55  +02 03 44.60   9.927217  4679.0\n",
       "3240          V830 Tau  04 33 10.02  +24 33 43.25  11.667231  4250.0\n",
       "\n",
       "[3241 rows x 5 columns]"
      ]
     },
     "execution_count": 4,
     "metadata": {},
     "output_type": "execute_result"
    }
   ],
   "source": [
    "SC[[\"Name\", \"RA\", \"DEC\", \"Gmag\", \"Teff\"]]"
   ]
  },
  {
   "cell_type": "code",
   "execution_count": 5,
   "metadata": {},
   "outputs": [
    {
     "data": {
      "text/html": [
       "<div>\n",
       "<style scoped>\n",
       "    .dataframe tbody tr th:only-of-type {\n",
       "        vertical-align: middle;\n",
       "    }\n",
       "\n",
       "    .dataframe tbody tr th {\n",
       "        vertical-align: top;\n",
       "    }\n",
       "\n",
       "    .dataframe thead th {\n",
       "        text-align: right;\n",
       "    }\n",
       "</style>\n",
       "<table border=\"1\" class=\"dataframe\">\n",
       "  <thead>\n",
       "    <tr style=\"text-align: right;\">\n",
       "      <th></th>\n",
       "      <th>Name</th>\n",
       "      <th>hd</th>\n",
       "      <th>RA</th>\n",
       "      <th>DEC</th>\n",
       "      <th>Vmag</th>\n",
       "      <th>eVmag</th>\n",
       "      <th>PlxFlag</th>\n",
       "      <th>Teff</th>\n",
       "      <th>eTeff</th>\n",
       "      <th>Logg</th>\n",
       "      <th>...</th>\n",
       "      <th>mass_t</th>\n",
       "      <th>e_mass_t</th>\n",
       "      <th>radius_t</th>\n",
       "      <th>e_radius_t</th>\n",
       "      <th>spec_base</th>\n",
       "      <th>Distance</th>\n",
       "      <th>RA_EU</th>\n",
       "      <th>DEC_EU</th>\n",
       "      <th>RA_NASA</th>\n",
       "      <th>DEC_NASA</th>\n",
       "    </tr>\n",
       "  </thead>\n",
       "  <tbody>\n",
       "    <tr>\n",
       "      <th>13</th>\n",
       "      <td>51 Peg</td>\n",
       "      <td>217014</td>\n",
       "      <td>22 57 27.98</td>\n",
       "      <td>+20 46 07.79</td>\n",
       "      <td>5.46</td>\n",
       "      <td>0.05</td>\n",
       "      <td>GAIADR3</td>\n",
       "      <td>5810.0</td>\n",
       "      <td>21.0</td>\n",
       "      <td>4.33</td>\n",
       "      <td>...</td>\n",
       "      <td>1.075</td>\n",
       "      <td>0.007</td>\n",
       "      <td>1.205</td>\n",
       "      <td>0.039</td>\n",
       "      <td>51Peg_HARPSS_115000_378_691_2020</td>\n",
       "      <td>15.526793</td>\n",
       "      <td>344.3625</td>\n",
       "      <td>20.768611</td>\n",
       "      <td>344.36754</td>\n",
       "      <td>20.769096</td>\n",
       "    </tr>\n",
       "  </tbody>\n",
       "</table>\n",
       "<p>1 rows × 46 columns</p>\n",
       "</div>"
      ],
      "text/plain": [
       "      Name      hd           RA           DEC  Vmag  eVmag  PlxFlag    Teff  \\\n",
       "13  51 Peg  217014  22 57 27.98  +20 46 07.79  5.46   0.05  GAIADR3  5810.0   \n",
       "\n",
       "    eTeff  Logg  ...  mass_t  e_mass_t  radius_t  e_radius_t  \\\n",
       "13   21.0  4.33  ...   1.075     0.007     1.205       0.039   \n",
       "\n",
       "                           spec_base   Distance     RA_EU     DEC_EU  \\\n",
       "13  51Peg_HARPSS_115000_378_691_2020  15.526793  344.3625  20.768611   \n",
       "\n",
       "      RA_NASA   DEC_NASA  \n",
       "13  344.36754  20.769096  \n",
       "\n",
       "[1 rows x 46 columns]"
      ]
     },
     "execution_count": 5,
     "metadata": {},
     "output_type": "execute_result"
    }
   ],
   "source": [
    "SC[SC[\"Name\"] == \"51 Peg\"]"
   ]
  },
  {
   "cell_type": "markdown",
   "metadata": {},
   "source": [
    "## Get planet propreties from exoplanet.eu"
   ]
  },
  {
   "cell_type": "code",
   "execution_count": 6,
   "metadata": {},
   "outputs": [],
   "source": [
    "import urllib.request\n",
    "from astropy.io import votable\n",
    "import warnings\n",
    "def downloadExoplanet(file_exo = \"exo.csv\"):\n",
    "    \"\"\"\n",
    "    Download the table of Confirmed planets from exoplanetEU and save it to a file (exo.csv).\n",
    "    Return a pandas DataFrame sorted in 'update'.\n",
    "    \"\"\"\n",
    "    response = urllib.request.urlopen(\"http://exoplanet.eu/catalog/votable\")\n",
    "    table = response.read()\n",
    "    with open('exo.xml', 'wb') as f:\n",
    "        f.write(table)\n",
    "    \"\"\"Convert the saved xml file to csv and read with pandas\"\"\"\n",
    "    with warnings.catch_warnings():\n",
    "        warnings.simplefilter(\"ignore\")\n",
    "        vo = votable.parse('exo.xml', invalid='mask', pedantic=False)\n",
    "        vo = vo.get_first_table().to_table(use_names_over_ids=True)\n",
    "        df = vo.to_pandas()\n",
    "\n",
    "    # Divide the data in Confirmed and not.\n",
    "    df[df.planet_status == 'Confirmed'].to_csv(file_exo, index=False)"
   ]
  },
  {
   "cell_type": "code",
   "execution_count": 7,
   "metadata": {},
   "outputs": [],
   "source": [
    "## We also provide teh exo.csv file taken from the last SWEET-Cat update\n",
    "# \n",
    "download = False\n",
    "if download:\n",
    "    downloadExoplanet()\n",
    "exo = pd.read_csv(\"exo.csv\")"
   ]
  },
  {
   "cell_type": "code",
   "execution_count": 8,
   "metadata": {},
   "outputs": [
    {
     "data": {
      "text/plain": [
       "Index(['name', 'planet_status', 'mass', 'mass_error_min', 'mass_error_max',\n",
       "       'mass_sini', 'mass_sini_error_min', 'mass_sini_error_max', 'radius',\n",
       "       'radius_error_min', 'radius_error_max', 'orbital_period',\n",
       "       'orbital_period_error_min', 'orbital_period_error_max',\n",
       "       'semi_major_axis', 'semi_major_axis_error_min',\n",
       "       'semi_major_axis_error_max', 'eccentricity', 'eccentricity_error_min',\n",
       "       'eccentricity_error_max', 'inclination', 'inclination_error_min',\n",
       "       'inclination_error_max', 'angular_distance', 'discovered', 'updated',\n",
       "       'omega', 'omega_error_min', 'omega_error_max', 'tperi',\n",
       "       'tperi_error_min', 'tperi_error_max', 'tconj', 'tconj_error_min',\n",
       "       'tconj_error_max', 'tzero_tr', 'tzero_tr_error_min',\n",
       "       'tzero_tr_error_max', 'tzero_tr_sec', 'tzero_tr_sec_error_min',\n",
       "       'tzero_tr_sec_error_max', 'lambda_angle', 'lambda_angle_error_min',\n",
       "       'lambda_angle_error_max', 'impact_parameter',\n",
       "       'impact_parameter_error_min', 'impact_parameter_error_max', 'tzero_vr',\n",
       "       'tzero_vr_error_min', 'tzero_vr_error_max', 'k', 'k_error_min',\n",
       "       'k_error_max', 'temp_calculated', 'temp_calculated_error_min',\n",
       "       'temp_calculated_error_max', 'temp_measured', 'hot_point_lon',\n",
       "       'geometric_albedo', 'geometric_albedo_error_min',\n",
       "       'geometric_albedo_error_max', 'log_g', 'publication', 'detection_type',\n",
       "       'mass_detection_type', 'radius_detection_type', 'alternate_names',\n",
       "       'molecules', 'star_name', 'ra', 'dec', 'mag_v', 'mag_i', 'mag_j',\n",
       "       'mag_h', 'mag_k', 'star_distance', 'star_distance_error_min',\n",
       "       'star_distance_error_max', 'star_metallicity',\n",
       "       'star_metallicity_error_min', 'star_metallicity_error_max', 'star_mass',\n",
       "       'star_mass_error_min', 'star_mass_error_max', 'star_radius',\n",
       "       'star_radius_error_min', 'star_radius_error_max', 'star_sp_type',\n",
       "       'star_age', 'star_age_error_min', 'star_age_error_max', 'star_teff',\n",
       "       'star_teff_error_min', 'star_teff_error_max', 'star_detected_disc',\n",
       "       'star_magnetic_field', 'star_alternate_names'],\n",
       "      dtype='object')"
      ]
     },
     "execution_count": 8,
     "metadata": {},
     "output_type": "execute_result"
    }
   ],
   "source": [
    "exo.columns"
   ]
  },
  {
   "cell_type": "code",
   "execution_count": 9,
   "metadata": {},
   "outputs": [],
   "source": [
    "#Getting coordinates matching\n",
    "coordSCEU   = coord.SkyCoord(ra=SC['RA_EU'].values,\n",
    "                           dec=SC['DEC_EU'].values,\n",
    "                           unit=(u.deg, u.deg),\n",
    "                           frame='icrs')\n",
    "coordExo    = coord.SkyCoord(ra=exo['ra'].values,\n",
    "                           dec=exo['dec'].values,\n",
    "                           unit=(u.deg, u.deg),\n",
    "                           frame='icrs')"
   ]
  },
  {
   "cell_type": "code",
   "execution_count": 10,
   "metadata": {},
   "outputs": [
    {
     "name": "stdout",
     "output_type": "stream",
     "text": [
      "2341\n"
     ]
    },
    {
     "data": {
      "text/html": [
       "<div>\n",
       "<style scoped>\n",
       "    .dataframe tbody tr th:only-of-type {\n",
       "        vertical-align: middle;\n",
       "    }\n",
       "\n",
       "    .dataframe tbody tr th {\n",
       "        vertical-align: top;\n",
       "    }\n",
       "\n",
       "    .dataframe thead th {\n",
       "        text-align: right;\n",
       "    }\n",
       "</style>\n",
       "<table border=\"1\" class=\"dataframe\">\n",
       "  <thead>\n",
       "    <tr style=\"text-align: right;\">\n",
       "      <th></th>\n",
       "      <th>name</th>\n",
       "      <th>mass</th>\n",
       "      <th>mass_sini</th>\n",
       "      <th>radius</th>\n",
       "      <th>semi_major_axis</th>\n",
       "      <th>eccentricity</th>\n",
       "    </tr>\n",
       "  </thead>\n",
       "  <tbody>\n",
       "    <tr>\n",
       "      <th>0</th>\n",
       "      <td>mu Ara b</td>\n",
       "      <td>NaN</td>\n",
       "      <td>1.67600</td>\n",
       "      <td>NaN</td>\n",
       "      <td>1.50000</td>\n",
       "      <td>0.1280</td>\n",
       "    </tr>\n",
       "    <tr>\n",
       "      <th>1</th>\n",
       "      <td>mu Ara c</td>\n",
       "      <td>NaN</td>\n",
       "      <td>0.03321</td>\n",
       "      <td>NaN</td>\n",
       "      <td>0.09094</td>\n",
       "      <td>0.1720</td>\n",
       "    </tr>\n",
       "    <tr>\n",
       "      <th>2</th>\n",
       "      <td>mu Ara d</td>\n",
       "      <td>NaN</td>\n",
       "      <td>0.52190</td>\n",
       "      <td>NaN</td>\n",
       "      <td>0.92100</td>\n",
       "      <td>0.0666</td>\n",
       "    </tr>\n",
       "    <tr>\n",
       "      <th>3</th>\n",
       "      <td>mu Ara e</td>\n",
       "      <td>NaN</td>\n",
       "      <td>1.81400</td>\n",
       "      <td>NaN</td>\n",
       "      <td>5.23500</td>\n",
       "      <td>0.0985</td>\n",
       "    </tr>\n",
       "  </tbody>\n",
       "</table>\n",
       "</div>"
      ],
      "text/plain": [
       "       name  mass  mass_sini  radius  semi_major_axis  eccentricity\n",
       "0  mu Ara b   NaN    1.67600     NaN          1.50000        0.1280\n",
       "1  mu Ara c   NaN    0.03321     NaN          0.09094        0.1720\n",
       "2  mu Ara d   NaN    0.52190     NaN          0.92100        0.0666\n",
       "3  mu Ara e   NaN    1.81400     NaN          5.23500        0.0985"
      ]
     },
     "execution_count": 10,
     "metadata": {},
     "output_type": "execute_result"
    }
   ],
   "source": [
    "SCind = np.where(SC.Name == \"mu Ara\")[0][0]\n",
    "print(SCind)\n",
    "#SCind = 3001\n",
    "def get_planets_for_SC_star(SCind):\n",
    "    outres = []\n",
    "    if \"EU\" in SC.Database[SCind]:\n",
    "        sep = coordSCEU[SCind].separation(coordExo).arcsecond\n",
    "        ind = np.where(sep <= np.nanmin(sep))[0]\n",
    "        if len(ind) > 0:\n",
    "            outres = exo.loc[ind].reset_index()\n",
    "    else:\n",
    "        print (\"No EU planets in Database\")\n",
    "    return outres\n",
    "planets = get_planets_for_SC_star(SCind)[[\"name\", \"mass\", \"mass_sini\", \"radius\", \"semi_major_axis\", \"eccentricity\"]]\n",
    "planets"
   ]
  },
  {
   "cell_type": "code",
   "execution_count": 11,
   "metadata": {},
   "outputs": [
    {
     "data": {
      "text/plain": [
       "Index(['name', 'mass', 'mass_sini', 'radius', 'semi_major_axis',\n",
       "       'eccentricity'],\n",
       "      dtype='object')"
      ]
     },
     "execution_count": 11,
     "metadata": {},
     "output_type": "execute_result"
    }
   ],
   "source": [
    "planets.columns"
   ]
  },
  {
   "cell_type": "markdown",
   "metadata": {},
   "source": [
    "### Plot Planetary System"
   ]
  },
  {
   "cell_type": "code",
   "execution_count": 12,
   "metadata": {},
   "outputs": [
    {
     "data": {
      "image/png": "[encoded data removed]",
      "text/plain": [
       "<Figure size 864x504 with 1 Axes>"
      ]
     },
     "metadata": {},
     "output_type": "display_data"
    }
   ],
   "source": [
    "import matplotlib.pyplot as plt #Imports plot library\n",
    "cos = np.cos\n",
    "pi = np.pi\n",
    "\n",
    "\n",
    "fig = plt.figure(1, figsize=(12, 7),facecolor='black')\n",
    "ax = fig.add_subplot(111, projection='polar')\n",
    "#ax.set_rorigin(-1)\n",
    "\n",
    "for p in range(len(planets)):\n",
    "  a = planets.semi_major_axis[p]\n",
    "  e = planets.eccentricity[p]\n",
    "  theta = np.linspace(0,2*pi, 360)\n",
    "  r = (a*(1-e**2))/(1+e*cos(theta))\n",
    "  plt.polar(theta, r, c='y', linestyle=\"--\")\n",
    "#ax.yaxis.grid(False)\n",
    "ax.xaxis.grid(False)\n",
    "ax.set_xticklabels([])\n",
    "ax.set_facecolor('k')\n",
    "ax.grid(color='gray', linestyle='--', linewidth=0.75)\n",
    "ax.spines['polar'].set_visible(False)\n",
    "[t.set_color('white') for t in ax.yaxis.get_ticklabels()]\n",
    "#ax.set_rlim(0)\n",
    "#ax.set_rscale('symlog')\n",
    "#print(np.c_[r,theta])\n",
    "#ax.plot(0, 0, 'y', markersize=10000, markerfacecolor='m', markeredgecolor='k')\n",
    "plt.show()"
   ]
  }
 ],
 "metadata": {
  "hide_input": false,
  "kernelspec": {
   "display_name": "Python 3",
   "language": "python",
   "name": "python3"
  },
  "language_info": {
   "codemirror_mode": {
    "name": "ipython",
    "version": 3
   },
   "file_extension": ".py",
   "mimetype": "text/x-python",
   "name": "python",
   "nbconvert_exporter": "python",
   "pygments_lexer": "ipython3",
   "version": "3.8.5"
  }
 },
 "nbformat": 4,
 "nbformat_minor": 4
}
